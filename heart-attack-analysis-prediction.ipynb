{
 "cells": [
  {
   "cell_type": "markdown",
   "metadata": {
    "papermill": {
     "duration": 0.015268,
     "end_time": "2021-07-16T11:24:15.795427",
     "exception": false,
     "start_time": "2021-07-16T11:24:15.780159",
     "status": "completed"
    },
    "tags": []
   },
   "source": [
    "## Import"
   ]
  },
  {
   "cell_type": "code",
   "execution_count": 10,
   "metadata": {
    "execution": {
     "iopub.execute_input": "2021-07-17T14:50:00.644598Z",
     "iopub.status.busy": "2021-07-17T14:50:00.643920Z",
     "iopub.status.idle": "2021-07-17T14:50:02.397445Z",
     "shell.execute_reply": "2021-07-17T14:50:02.396211Z",
     "shell.execute_reply.started": "2021-07-17T14:50:00.644538Z"
    },
    "papermill": {
     "duration": 1.169837,
     "end_time": "2021-07-16T11:24:16.980292",
     "exception": false,
     "start_time": "2021-07-16T11:24:15.810455",
     "status": "completed"
    },
    "tags": []
   },
   "outputs": [
    {
     "ename": "ModuleNotFoundError",
     "evalue": "No module named 'plotly'",
     "output_type": "error",
     "traceback": [
      "\u001b[1;31m---------------------------------------------------------------------------\u001b[0m",
      "\u001b[1;31mModuleNotFoundError\u001b[0m                       Traceback (most recent call last)",
      "\u001b[1;32m<ipython-input-10-2175734df6ca>\u001b[0m in \u001b[0;36m<module>\u001b[1;34m\u001b[0m\n\u001b[0;32m      3\u001b[0m \u001b[1;32mimport\u001b[0m \u001b[0mmatplotlib\u001b[0m\u001b[1;33m.\u001b[0m\u001b[0mpyplot\u001b[0m \u001b[1;32mas\u001b[0m \u001b[0mplt\u001b[0m\u001b[1;33m\u001b[0m\u001b[1;33m\u001b[0m\u001b[0m\n\u001b[0;32m      4\u001b[0m \u001b[1;32mimport\u001b[0m \u001b[0mseaborn\u001b[0m \u001b[1;32mas\u001b[0m \u001b[0msns\u001b[0m\u001b[1;33m\u001b[0m\u001b[1;33m\u001b[0m\u001b[0m\n\u001b[1;32m----> 5\u001b[1;33m \u001b[1;32mimport\u001b[0m \u001b[0mplotly\u001b[0m\u001b[1;33m.\u001b[0m\u001b[0mexpress\u001b[0m \u001b[1;32mas\u001b[0m \u001b[0mpx\u001b[0m\u001b[1;33m\u001b[0m\u001b[1;33m\u001b[0m\u001b[0m\n\u001b[0m\u001b[0;32m      6\u001b[0m \u001b[1;33m\u001b[0m\u001b[0m\n\u001b[0;32m      7\u001b[0m \u001b[1;32mfrom\u001b[0m \u001b[0msklearn\u001b[0m\u001b[1;33m.\u001b[0m\u001b[0mlinear_model\u001b[0m \u001b[1;32mimport\u001b[0m \u001b[0mLogisticRegression\u001b[0m\u001b[1;33m\u001b[0m\u001b[1;33m\u001b[0m\u001b[0m\n",
      "\u001b[1;31mModuleNotFoundError\u001b[0m: No module named 'plotly'"
     ]
    }
   ],
   "source": [
    "import numpy as np\n",
    "import pandas as pd\n",
    "import matplotlib.pyplot as plt\n",
    "import seaborn as sns\n",
    "import plotly.express as px\n",
    "\n",
    "from sklearn.linear_model import LogisticRegression\n",
    "from sklearn.preprocessing import StandardScaler\n",
    "from sklearn.preprocessing import OneHotEncoder\n",
    "from sklearn.model_selection import train_test_split\n",
    "from sklearn.pipeline import make_pipeline\n",
    "from sklearn.compose import make_column_transformer\n",
    "from sklearn.metrics import accuracy_score\n",
    "\n",
    "import warnings\n",
    "warnings.filterwarnings('ignore')"
   ]
  },
  {
   "cell_type": "code",
   "execution_count": null,
   "metadata": {
    "execution": {
     "iopub.execute_input": "2021-07-17T14:37:48.902742Z",
     "iopub.status.busy": "2021-07-17T14:37:48.902218Z",
     "iopub.status.idle": "2021-07-17T14:37:48.933731Z",
     "shell.execute_reply": "2021-07-17T14:37:48.932989Z",
     "shell.execute_reply.started": "2021-07-17T14:37:48.902695Z"
    },
    "papermill": {
     "duration": 0.06366,
     "end_time": "2021-07-16T11:24:17.058747",
     "exception": false,
     "start_time": "2021-07-16T11:24:16.995087",
     "status": "completed"
    },
    "tags": []
   },
   "outputs": [],
   "source": [
    "df = pd.read_csv(\"../input/heart-attack-analysis-prediction-dataset/heart.csv\")\n",
    "df.head()"
   ]
  },
  {
   "cell_type": "code",
   "execution_count": null,
   "metadata": {
    "execution": {
     "iopub.execute_input": "2021-07-17T14:37:48.956980Z",
     "iopub.status.busy": "2021-07-17T14:37:48.956431Z",
     "iopub.status.idle": "2021-07-17T14:37:48.965749Z",
     "shell.execute_reply": "2021-07-17T14:37:48.964535Z",
     "shell.execute_reply.started": "2021-07-17T14:37:48.956929Z"
    },
    "papermill": {
     "duration": 0.025886,
     "end_time": "2021-07-16T11:24:17.100048",
     "exception": false,
     "start_time": "2021-07-16T11:24:17.074162",
     "status": "completed"
    },
    "tags": []
   },
   "outputs": [],
   "source": [
    "df.isna().sum()"
   ]
  },
  {
   "cell_type": "code",
   "execution_count": null,
   "metadata": {
    "execution": {
     "iopub.execute_input": "2021-07-17T14:37:48.997298Z",
     "iopub.status.busy": "2021-07-17T14:37:48.996924Z",
     "iopub.status.idle": "2021-07-17T14:37:49.011980Z",
     "shell.execute_reply": "2021-07-17T14:37:49.011159Z",
     "shell.execute_reply.started": "2021-07-17T14:37:48.997264Z"
    },
    "papermill": {
     "duration": 0.038723,
     "end_time": "2021-07-16T11:24:17.154186",
     "exception": false,
     "start_time": "2021-07-16T11:24:17.115463",
     "status": "completed"
    },
    "tags": []
   },
   "outputs": [],
   "source": [
    "df.info()"
   ]
  },
  {
   "cell_type": "code",
   "execution_count": null,
   "metadata": {},
   "outputs": [],
   "source": [
    "df.describe().T"
   ]
  },
  {
   "cell_type": "code",
   "execution_count": null,
   "metadata": {},
   "outputs": [],
   "source": [
    "df.shape"
   ]
  },
  {
   "cell_type": "markdown",
   "metadata": {
    "papermill": {
     "duration": 0.015048,
     "end_time": "2021-07-16T11:24:17.185958",
     "exception": false,
     "start_time": "2021-07-16T11:24:17.170910",
     "status": "completed"
    },
    "tags": []
   },
   "source": [
    "## EDA"
   ]
  },
  {
   "cell_type": "code",
   "execution_count": null,
   "metadata": {
    "execution": {
     "iopub.execute_input": "2021-07-17T14:37:49.013644Z",
     "iopub.status.busy": "2021-07-17T14:37:49.013233Z",
     "iopub.status.idle": "2021-07-17T14:37:49.029945Z",
     "shell.execute_reply": "2021-07-17T14:37:49.029051Z",
     "shell.execute_reply.started": "2021-07-17T14:37:49.013614Z"
    },
    "papermill": {
     "duration": 0.0292,
     "end_time": "2021-07-16T11:24:17.234456",
     "exception": false,
     "start_time": "2021-07-16T11:24:17.205256",
     "status": "completed"
    },
    "tags": []
   },
   "outputs": [],
   "source": [
    "df.columns"
   ]
  },
  {
   "cell_type": "code",
   "execution_count": null,
   "metadata": {
    "execution": {
     "iopub.execute_input": "2021-07-17T14:37:49.033158Z",
     "iopub.status.busy": "2021-07-17T14:37:49.032791Z",
     "iopub.status.idle": "2021-07-17T14:37:49.240100Z",
     "shell.execute_reply": "2021-07-17T14:37:49.239190Z",
     "shell.execute_reply.started": "2021-07-17T14:37:49.033119Z"
    },
    "papermill": {
     "duration": 0.244835,
     "end_time": "2021-07-16T11:24:17.500485",
     "exception": false,
     "start_time": "2021-07-16T11:24:17.255650",
     "status": "completed"
    },
    "tags": []
   },
   "outputs": [],
   "source": [
    "sns.histplot(x=\"age\",data=df);"
   ]
  },
  {
   "cell_type": "code",
   "execution_count": null,
   "metadata": {
    "execution": {
     "iopub.execute_input": "2021-07-17T14:37:49.242282Z",
     "iopub.status.busy": "2021-07-17T14:37:49.241653Z",
     "iopub.status.idle": "2021-07-17T14:37:49.373831Z",
     "shell.execute_reply": "2021-07-17T14:37:49.373119Z",
     "shell.execute_reply.started": "2021-07-17T14:37:49.242235Z"
    },
    "papermill": {
     "duration": 0.137195,
     "end_time": "2021-07-16T11:24:17.654300",
     "exception": false,
     "start_time": "2021-07-16T11:24:17.517105",
     "status": "completed"
    },
    "tags": []
   },
   "outputs": [],
   "source": [
    "sns.countplot(x=\"sex\",data=df);\n",
    "plt.xticks(ticks=[0,1],labels=[\"female\",\"male\"])\n",
    "plt.show()"
   ]
  },
  {
   "cell_type": "code",
   "execution_count": null,
   "metadata": {
    "execution": {
     "iopub.execute_input": "2021-07-17T14:37:49.375695Z",
     "iopub.status.busy": "2021-07-17T14:37:49.375135Z",
     "iopub.status.idle": "2021-07-17T14:37:49.557434Z",
     "shell.execute_reply": "2021-07-17T14:37:49.556449Z",
     "shell.execute_reply.started": "2021-07-17T14:37:49.375650Z"
    },
    "papermill": {
     "duration": 0.198067,
     "end_time": "2021-07-16T11:24:17.869982",
     "exception": false,
     "start_time": "2021-07-16T11:24:17.671915",
     "status": "completed"
    },
    "tags": []
   },
   "outputs": [],
   "source": [
    "df2=df[df[\"output\"]==1]\n",
    "sns.histplot(df2[\"thalachh\"],bins=10);\n",
    "plt.xlabel(\"MAXIMUM HEART RATE REACHED WHEN OUTPUT 1\")\n",
    "plt.show()"
   ]
  },
  {
   "cell_type": "code",
   "execution_count": null,
   "metadata": {
    "execution": {
     "iopub.execute_input": "2021-07-17T14:48:34.271704Z",
     "iopub.status.busy": "2021-07-17T14:48:34.271349Z",
     "iopub.status.idle": "2021-07-17T14:48:34.492773Z",
     "shell.execute_reply": "2021-07-17T14:48:34.491866Z",
     "shell.execute_reply.started": "2021-07-17T14:48:34.271674Z"
    },
    "papermill": {
     "duration": 0.168081,
     "end_time": "2021-07-16T11:24:18.055360",
     "exception": false,
     "start_time": "2021-07-16T11:24:17.887279",
     "status": "completed"
    },
    "tags": []
   },
   "outputs": [],
   "source": [
    "df3=df[df[\"output\"]==0]\n",
    "sns.histplot(df3[\"thalachh\"],bins=10);\n",
    "plt.xlabel(\"MAXIMUM HEART RATE REACHED WHEN OUTPUT 0\")\n",
    "plt.show()"
   ]
  },
  {
   "cell_type": "code",
   "execution_count": null,
   "metadata": {
    "execution": {
     "iopub.execute_input": "2021-07-17T14:50:10.551748Z",
     "iopub.status.busy": "2021-07-17T14:50:10.551400Z",
     "iopub.status.idle": "2021-07-17T14:50:11.770701Z",
     "shell.execute_reply": "2021-07-17T14:50:11.769648Z",
     "shell.execute_reply.started": "2021-07-17T14:50:10.551718Z"
    }
   },
   "outputs": [],
   "source": [
    "s=df[\"sex\"].value_counts().reset_index()\n",
    "px.pie(s,names=\"index\",values=\"sex\",title=\"%AGE OF MALE AND FEMALE PATIENTS:\")"
   ]
  },
  {
   "cell_type": "code",
   "execution_count": null,
   "metadata": {
    "execution": {
     "iopub.execute_input": "2021-07-17T14:37:49.739548Z",
     "iopub.status.busy": "2021-07-17T14:37:49.739118Z",
     "iopub.status.idle": "2021-07-17T14:37:50.073449Z",
     "shell.execute_reply": "2021-07-17T14:37:50.072069Z",
     "shell.execute_reply.started": "2021-07-17T14:37:49.739501Z"
    },
    "papermill": {
     "duration": 0.433549,
     "end_time": "2021-07-16T11:24:18.507045",
     "exception": false,
     "start_time": "2021-07-16T11:24:18.073496",
     "status": "completed"
    },
    "tags": []
   },
   "outputs": [],
   "source": [
    "sns.stripplot(x=\"cp\",y=\"trtbps\",hue=\"output\",data=df);"
   ]
  },
  {
   "cell_type": "code",
   "execution_count": null,
   "metadata": {
    "execution": {
     "iopub.execute_input": "2021-07-17T14:37:50.077260Z",
     "iopub.status.busy": "2021-07-17T14:37:50.076711Z",
     "iopub.status.idle": "2021-07-17T14:37:50.504703Z",
     "shell.execute_reply": "2021-07-17T14:37:50.503459Z",
     "shell.execute_reply.started": "2021-07-17T14:37:50.077209Z"
    },
    "papermill": {
     "duration": 0.38381,
     "end_time": "2021-07-16T11:24:18.909916",
     "exception": false,
     "start_time": "2021-07-16T11:24:18.526106",
     "status": "completed"
    },
    "tags": []
   },
   "outputs": [],
   "source": [
    "sns.catplot(x=\"fbs\", y=\"oldpeak\", hue=\"output\", kind=\"strip\", data=df);"
   ]
  },
  {
   "cell_type": "code",
   "execution_count": null,
   "metadata": {
    "execution": {
     "iopub.execute_input": "2021-07-17T14:37:50.506919Z",
     "iopub.status.busy": "2021-07-17T14:37:50.506597Z",
     "iopub.status.idle": "2021-07-17T14:37:52.684475Z",
     "shell.execute_reply": "2021-07-17T14:37:52.683370Z",
     "shell.execute_reply.started": "2021-07-17T14:37:50.506890Z"
    },
    "papermill": {
     "duration": 1.544635,
     "end_time": "2021-07-16T11:24:20.476445",
     "exception": false,
     "start_time": "2021-07-16T11:24:18.931810",
     "status": "completed"
    },
    "tags": []
   },
   "outputs": [],
   "source": [
    "plt.figure(figsize=(10,6))\n",
    "sns.lineplot(x=\"age\",y=\"thalachh\",hue=\"output\",data=df)\n",
    "plt.title(\"EFFECT OF HEART ATTACK WITH INCREASE IN AGE AND MAXIMUM HEART RATE\")\n",
    "plt.show()"
   ]
  },
  {
   "cell_type": "code",
   "execution_count": null,
   "metadata": {
    "execution": {
     "iopub.execute_input": "2021-07-17T14:46:07.428294Z",
     "iopub.status.busy": "2021-07-17T14:46:07.427587Z",
     "iopub.status.idle": "2021-07-17T14:46:09.621989Z",
     "shell.execute_reply": "2021-07-17T14:46:09.620556Z",
     "shell.execute_reply.started": "2021-07-17T14:46:07.428233Z"
    },
    "papermill": {
     "duration": 1.551965,
     "end_time": "2021-07-16T11:24:22.051829",
     "exception": false,
     "start_time": "2021-07-16T11:24:20.499864",
     "status": "completed"
    },
    "tags": []
   },
   "outputs": [],
   "source": [
    "plt.figure(figsize=(10,6))\n",
    "sns.lineplot(x=\"age\",y=\"chol\",hue=\"output\",data=df)\n",
    "plt.title(\"EFFECT OF HEART ATTACK WITH INCREASE IN AGE AND CHOLESTROL\")\n",
    "plt.show()"
   ]
  },
  {
   "cell_type": "code",
   "execution_count": null,
   "metadata": {
    "execution": {
     "iopub.execute_input": "2021-07-17T14:46:50.187413Z",
     "iopub.status.busy": "2021-07-17T14:46:50.187068Z",
     "iopub.status.idle": "2021-07-17T14:46:51.087009Z",
     "shell.execute_reply": "2021-07-17T14:46:51.085954Z",
     "shell.execute_reply.started": "2021-07-17T14:46:50.187385Z"
    }
   },
   "outputs": [],
   "source": [
    "sns.set_style('darkgrid')\n",
    "figure = plt.figure(figsize=(20,8))\n",
    "sns.countplot(x= 'trtbps',data=df)\n"
   ]
  },
  {
   "cell_type": "code",
   "execution_count": null,
   "metadata": {
    "execution": {
     "iopub.execute_input": "2021-07-17T14:47:03.647971Z",
     "iopub.status.busy": "2021-07-17T14:47:03.647540Z",
     "iopub.status.idle": "2021-07-17T14:47:05.560688Z",
     "shell.execute_reply": "2021-07-17T14:47:05.559498Z",
     "shell.execute_reply.started": "2021-07-17T14:47:03.647926Z"
    }
   },
   "outputs": [],
   "source": [
    "sns.set_style('darkgrid')\n",
    "figure = plt.figure(figsize=(15,6))\n",
    "sns.barplot(x= 'age', y ='thall',data=df,palette='rainbow')"
   ]
  },
  {
   "cell_type": "code",
   "execution_count": null,
   "metadata": {
    "execution": {
     "iopub.execute_input": "2021-07-17T14:45:27.721363Z",
     "iopub.status.busy": "2021-07-17T14:45:27.720964Z",
     "iopub.status.idle": "2021-07-17T14:45:29.318467Z",
     "shell.execute_reply": "2021-07-17T14:45:29.316891Z",
     "shell.execute_reply.started": "2021-07-17T14:45:27.721329Z"
    }
   },
   "outputs": [],
   "source": [
    "figure = plt.figure(figsize=(12,6))\n",
    "\n",
    "sns.heatmap(df.corr(),data = df,annot= True,cmap = 'Greys')"
   ]
  },
  {
   "cell_type": "markdown",
   "metadata": {
    "papermill": {
     "duration": 0.023198,
     "end_time": "2021-07-16T11:24:22.099384",
     "exception": false,
     "start_time": "2021-07-16T11:24:22.076186",
     "status": "completed"
    },
    "tags": []
   },
   "source": [
    "## Model Building"
   ]
  },
  {
   "cell_type": "code",
   "execution_count": null,
   "metadata": {
    "execution": {
     "iopub.execute_input": "2021-07-17T14:37:54.921955Z",
     "iopub.status.busy": "2021-07-17T14:37:54.921650Z",
     "iopub.status.idle": "2021-07-17T14:37:54.929528Z",
     "shell.execute_reply": "2021-07-17T14:37:54.927864Z",
     "shell.execute_reply.started": "2021-07-17T14:37:54.921926Z"
    },
    "papermill": {
     "duration": 0.032613,
     "end_time": "2021-07-16T11:24:22.155803",
     "exception": false,
     "start_time": "2021-07-16T11:24:22.123190",
     "status": "completed"
    },
    "tags": []
   },
   "outputs": [],
   "source": [
    "X=df.drop(\"output\",axis=1).values\n",
    "y=df[\"output\"].values\n",
    "X_train, X_test, y_train, y_test = train_test_split(X, y, train_size=0.75)\n"
   ]
  },
  {
   "cell_type": "markdown",
   "metadata": {
    "papermill": {
     "duration": 0.024199,
     "end_time": "2021-07-16T11:24:22.203705",
     "exception": false,
     "start_time": "2021-07-16T11:24:22.179506",
     "status": "completed"
    },
    "tags": []
   },
   "source": [
    "#### Decision tree Classifier"
   ]
  },
  {
   "cell_type": "code",
   "execution_count": null,
   "metadata": {
    "execution": {
     "iopub.execute_input": "2021-07-17T14:37:54.931826Z",
     "iopub.status.busy": "2021-07-17T14:37:54.931285Z",
     "iopub.status.idle": "2021-07-17T14:37:54.949300Z",
     "shell.execute_reply": "2021-07-17T14:37:54.948131Z",
     "shell.execute_reply.started": "2021-07-17T14:37:54.931787Z"
    },
    "papermill": {
     "duration": 0.132273,
     "end_time": "2021-07-16T11:24:22.359858",
     "exception": false,
     "start_time": "2021-07-16T11:24:22.227585",
     "status": "completed"
    },
    "tags": []
   },
   "outputs": [],
   "source": [
    "from sklearn.tree import DecisionTreeClassifier\n",
    "dt= DecisionTreeClassifier(max_depth=3,random_state=1)\n",
    "dt.fit(X_train,y_train)\n",
    "y_pred=dt.predict(X_test)\n",
    "accuracy_score(y_test,y_pred)"
   ]
  },
  {
   "cell_type": "markdown",
   "metadata": {
    "papermill": {
     "duration": 0.02392,
     "end_time": "2021-07-16T11:24:22.408131",
     "exception": false,
     "start_time": "2021-07-16T11:24:22.384211",
     "status": "completed"
    },
    "tags": []
   },
   "source": [
    "#### RandomForest"
   ]
  },
  {
   "cell_type": "code",
   "execution_count": null,
   "metadata": {
    "execution": {
     "iopub.execute_input": "2021-07-17T14:37:54.950907Z",
     "iopub.status.busy": "2021-07-17T14:37:54.950521Z",
     "iopub.status.idle": "2021-07-17T14:37:55.747990Z",
     "shell.execute_reply": "2021-07-17T14:37:55.747036Z",
     "shell.execute_reply.started": "2021-07-17T14:37:54.950871Z"
    },
    "papermill": {
     "duration": 0.605162,
     "end_time": "2021-07-16T11:24:23.038011",
     "exception": false,
     "start_time": "2021-07-16T11:24:22.432849",
     "status": "completed"
    },
    "tags": []
   },
   "outputs": [],
   "source": [
    "from sklearn.ensemble import RandomForestClassifier\n",
    "rfc = RandomForestClassifier(n_estimators=400,min_samples_leaf=0.12)\n",
    "rfc.fit(X_train,y_train)\n",
    "y_pred=rfc.predict(X_test)\n",
    "accuracy_score(y_test,y_pred)"
   ]
  },
  {
   "cell_type": "markdown",
   "metadata": {
    "papermill": {
     "duration": 0.024111,
     "end_time": "2021-07-16T11:24:23.086446",
     "exception": false,
     "start_time": "2021-07-16T11:24:23.062335",
     "status": "completed"
    },
    "tags": []
   },
   "source": [
    "#### XGBOOST\n"
   ]
  },
  {
   "cell_type": "code",
   "execution_count": null,
   "metadata": {
    "execution": {
     "iopub.execute_input": "2021-07-17T14:37:55.749812Z",
     "iopub.status.busy": "2021-07-17T14:37:55.749422Z",
     "iopub.status.idle": "2021-07-17T14:37:55.785145Z",
     "shell.execute_reply": "2021-07-17T14:37:55.784132Z",
     "shell.execute_reply.started": "2021-07-17T14:37:55.749768Z"
    },
    "papermill": {
     "duration": 0.158836,
     "end_time": "2021-07-16T11:24:23.269479",
     "exception": false,
     "start_time": "2021-07-16T11:24:23.110643",
     "status": "completed"
    },
    "tags": []
   },
   "outputs": [],
   "source": [
    "from xgboost import XGBClassifier\n",
    "from sklearn.metrics import r2_score\n",
    "\n",
    "xgb = XGBClassifier(colsample_bylevel= 0.9,\n",
    "                    colsample_bytree = 0.8, \n",
    "                    gamma=0.99,\n",
    "                    max_depth= 5,\n",
    "                    min_child_weight= 1,\n",
    "                    n_estimators= 8,\n",
    "                    nthread= 5,\n",
    "                    random_state= 0,\n",
    "                    )\n",
    "xgb.fit(X_train,y_train)"
   ]
  },
  {
   "cell_type": "code",
   "execution_count": null,
   "metadata": {
    "execution": {
     "iopub.execute_input": "2021-07-17T14:37:55.787191Z",
     "iopub.status.busy": "2021-07-17T14:37:55.786602Z",
     "iopub.status.idle": "2021-07-17T14:37:55.799481Z",
     "shell.execute_reply": "2021-07-17T14:37:55.798425Z",
     "shell.execute_reply.started": "2021-07-17T14:37:55.787146Z"
    },
    "papermill": {
     "duration": 0.038953,
     "end_time": "2021-07-16T11:24:23.333704",
     "exception": false,
     "start_time": "2021-07-16T11:24:23.294751",
     "status": "completed"
    },
    "tags": []
   },
   "outputs": [],
   "source": [
    "print('Accuracy of XGBoost classifier on training set: {:.2f}'\n",
    "     .format(xgb.score(X_train, y_train)))\n",
    "print('Accuracy of XGBoost classifier on test set: {:.2f}'\n",
    "     .format(xgb.score(X_test, y_test)))"
   ]
  },
  {
   "cell_type": "code",
   "execution_count": null,
   "metadata": {
    "execution": {
     "iopub.execute_input": "2021-07-17T14:37:55.803023Z",
     "iopub.status.busy": "2021-07-17T14:37:55.802699Z",
     "iopub.status.idle": "2021-07-17T14:37:55.811851Z",
     "shell.execute_reply": "2021-07-17T14:37:55.810659Z",
     "shell.execute_reply.started": "2021-07-17T14:37:55.802990Z"
    },
    "papermill": {
     "duration": 0.036922,
     "end_time": "2021-07-16T11:24:23.396654",
     "exception": false,
     "start_time": "2021-07-16T11:24:23.359732",
     "status": "completed"
    },
    "tags": []
   },
   "outputs": [],
   "source": [
    "y_pred=xgb.predict(X_test)\n",
    "print(\"Accuracy of XG Boost model is:\",\n",
    "accuracy_score(y_test, y_pred)*100)"
   ]
  }
 ],
 "metadata": {
  "kernelspec": {
   "display_name": "Python 3",
   "language": "python",
   "name": "python3"
  },
  "language_info": {
   "codemirror_mode": {
    "name": "ipython",
    "version": 3
   },
   "file_extension": ".py",
   "mimetype": "text/x-python",
   "name": "python",
   "nbconvert_exporter": "python",
   "pygments_lexer": "ipython3",
   "version": "3.8.8"
  }
 },
 "nbformat": 4,
 "nbformat_minor": 4
}
