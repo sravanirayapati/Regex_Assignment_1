{
 "cells": [
  {
   "cell_type": "markdown",
   "id": "56f0da68",
   "metadata": {},
   "source": [
    "#  1.write a lambda expression to extract first word of a string"
   ]
  },
  {
   "cell_type": "code",
   "execution_count": 6,
   "id": "4cadb415",
   "metadata": {},
   "outputs": [
    {
     "name": "stdout",
     "output_type": "stream",
     "text": [
      "Ente a string:Regex Software Services\n"
     ]
    },
    {
     "data": {
      "text/plain": [
       "'Regex'"
      ]
     },
     "execution_count": 6,
     "metadata": {},
     "output_type": "execute_result"
    }
   ],
   "source": [
    "string=input(\"Ente a string:\")\n",
    "first_word=lambda string:string.split()[0]\n",
    "first_word(string)"
   ]
  },
  {
   "cell_type": "markdown",
   "id": "8b86c043",
   "metadata": {},
   "source": [
    "#  2.Write a function to extract first word of s string (with many words separated by space)"
   ]
  },
  {
   "cell_type": "code",
   "execution_count": 7,
   "id": "4aafd8f8",
   "metadata": {},
   "outputs": [
    {
     "name": "stdout",
     "output_type": "stream",
     "text": [
      "Enter a string : Regex Software Services\n",
      "Regex\n"
     ]
    }
   ],
   "source": [
    "def firstword(s):\n",
    "    first_word=s.split()\n",
    "    return first_word[0]\n",
    "string=input(\"Enter a string : \")\n",
    "print(firstword(string))"
   ]
  },
  {
   "cell_type": "markdown",
   "id": "c5ddbf0b",
   "metadata": {},
   "source": [
    "#  3. Extract the first word from every string from a list of strings by using map function."
   ]
  },
  {
   "cell_type": "code",
   "execution_count": 8,
   "id": "ee8d5cb1",
   "metadata": {},
   "outputs": [
    {
     "name": "stdout",
     "output_type": "stream",
     "text": [
      "['Regex', 'Summer', 'ML']\n"
     ]
    }
   ],
   "source": [
    "list1=[\"Regex Software Services\",\"Summer Internship\",\"ML and Deep Learning\"]\n",
    "words=lambda n:n.split()[0]\n",
    "print(list(map(words,list1)))"
   ]
  },
  {
   "cell_type": "markdown",
   "id": "4a71e600",
   "metadata": {},
   "source": [
    "#  4. Write a function to return a list of prime factors of a given number."
   ]
  },
  {
   "cell_type": "code",
   "execution_count": 9,
   "id": "0935f8a4",
   "metadata": {},
   "outputs": [
    {
     "name": "stdout",
     "output_type": "stream",
     "text": [
      "Enter a number:520\n",
      "[2, 5, 13]\n"
     ]
    }
   ],
   "source": [
    "def isprime(n):\n",
    "    for i in range(2,n):\n",
    "        if(n%i==0):\n",
    "            return False\n",
    "            break\n",
    "    else:\n",
    "        return True\n",
    "def primefactors(n):\n",
    "    l=[]\n",
    "    for i in range(2,n+1):\n",
    "        if(n%i==0):\n",
    "            if(isprime(i)):\n",
    "                l.append(i)\n",
    "    print(l)\n",
    "n=int(input('Enter a number:'))\n",
    "primefactors(n)"
   ]
  },
  {
   "cell_type": "markdown",
   "id": "ad26b72d",
   "metadata": {},
   "source": [
    "#  5. Write a function that finds 2nd largest among 4 numbers (Repetitions are allowed,without sorting)."
   ]
  },
  {
   "cell_type": "code",
   "execution_count": 10,
   "id": "6f7b2cfa",
   "metadata": {},
   "outputs": [
    {
     "name": "stdout",
     "output_type": "stream",
     "text": [
      "Enter any four numbers : 2 7 5 9\n",
      "7\n"
     ]
    }
   ],
   "source": [
    "def second(l):\n",
    "    l1=set(l)\n",
    "    l1.remove(max(l1))\n",
    "    print(max(l1))\n",
    "l = [int(i) for i in input(\"Enter any four numbers : \").split()]\n",
    "second(l)"
   ]
  },
  {
   "cell_type": "code",
   "execution_count": null,
   "id": "1c24c4f2",
   "metadata": {},
   "outputs": [],
   "source": []
  }
 ],
 "metadata": {
  "kernelspec": {
   "display_name": "Python 3",
   "language": "python",
   "name": "python3"
  },
  "language_info": {
   "codemirror_mode": {
    "name": "ipython",
    "version": 3
   },
   "file_extension": ".py",
   "mimetype": "text/x-python",
   "name": "python",
   "nbconvert_exporter": "python",
   "pygments_lexer": "ipython3",
   "version": "3.8.8"
  }
 },
 "nbformat": 4,
 "nbformat_minor": 5
}
