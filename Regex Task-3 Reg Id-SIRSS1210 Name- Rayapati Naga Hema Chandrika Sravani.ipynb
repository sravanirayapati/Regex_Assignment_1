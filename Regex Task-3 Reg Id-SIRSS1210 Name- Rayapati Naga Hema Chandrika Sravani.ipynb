{
 "cells": [
  {
   "cell_type": "markdown",
   "id": "cc17e093",
   "metadata": {},
   "source": [
    "# 1.Write a function to return nth term of Fibonacci sequence."
   ]
  },
  {
   "cell_type": "code",
   "execution_count": 26,
   "id": "af253808",
   "metadata": {},
   "outputs": [
    {
     "name": "stdout",
     "output_type": "stream",
     "text": [
      "Enter a number:10\n",
      "10 th term of Fibonacci sequence is: 34\n"
     ]
    }
   ],
   "source": [
    "def fibonacci(n):\n",
    "    l=[0,1]\n",
    "    for i in range(n):\n",
    "        l.append(l[-1]+l[-2])\n",
    "    print(n+2,\"th term of Fibonacci sequence is:\",l[-1])\n",
    "n=int(input(\"Enter a number:\"))\n",
    "fibonacci(n-2)"
   ]
  },
  {
   "cell_type": "markdown",
   "id": "d19acf57",
   "metadata": {},
   "source": [
    "# 2.Write a function to find out GCD of two numbers using EUCLID'S algorithm."
   ]
  },
  {
   "cell_type": "code",
   "execution_count": 27,
   "id": "02297b30",
   "metadata": {},
   "outputs": [
    {
     "name": "stdout",
     "output_type": "stream",
     "text": [
      "Enter two Numbers:\n",
      "16 32\n",
      "The Gcd of two Numbers using Euclid's alogorithm is: 16\n"
     ]
    }
   ],
   "source": [
    "def gcd(a,b):\n",
    "    if a==0:\n",
    "        return b \n",
    "    return gcd(b%a,a)\n",
    "print(\"Enter two Numbers:\")\n",
    "a,b=map(int,input().split())\n",
    "print(\"The Gcd of two Numbers using Euclid's alogorithm is:\",gcd(a,b))"
   ]
  },
  {
   "cell_type": "markdown",
   "id": "7a26070c",
   "metadata": {},
   "source": [
    "# 3.Write a function to find LCM of two number in most optimizers way."
   ]
  },
  {
   "cell_type": "code",
   "execution_count": 28,
   "id": "77be00e4",
   "metadata": {},
   "outputs": [
    {
     "name": "stdout",
     "output_type": "stream",
     "text": [
      "Enter two Numbers:\n",
      "16 24\n",
      "The LCM of two Numbers is: 48\n"
     ]
    }
   ],
   "source": [
    "def gcd(a,b):\n",
    "    if a==0:\n",
    "        return b \n",
    "    return gcd(b%a,a)\n",
    "def lcm(a,b):\n",
    "    return (a//gcd(a,b))*b\n",
    "print(\"Enter two Numbers:\")\n",
    "a,b=map(int,input().split())\n",
    "print(\"The LCM of two Numbers is:\",lcm(a,b))"
   ]
  },
  {
   "cell_type": "code",
   "execution_count": null,
   "id": "a96866d6",
   "metadata": {},
   "outputs": [],
   "source": []
  }
 ],
 "metadata": {
  "kernelspec": {
   "display_name": "Python 3",
   "language": "python",
   "name": "python3"
  },
  "language_info": {
   "codemirror_mode": {
    "name": "ipython",
    "version": 3
   },
   "file_extension": ".py",
   "mimetype": "text/x-python",
   "name": "python",
   "nbconvert_exporter": "python",
   "pygments_lexer": "ipython3",
   "version": "3.8.8"
  }
 },
 "nbformat": 4,
 "nbformat_minor": 5
}
